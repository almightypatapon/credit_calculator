{
 "cells": [
  {
   "cell_type": "code",
   "execution_count": 1,
   "metadata": {},
   "outputs": [
    {
     "name": "stdout",
     "output_type": "stream",
     "text": [
      "What do you want to calculate?\n",
      "type \"n\" for number of monthly payments,\n",
      "type \"a\" for annuity monthly payment amount,\n",
      "type \"p\" for credit principal:\n",
      "> n\n",
      "Enter the credit principal:\n",
      "> 1000000\n",
      "Enter the monthly payment:\n",
      "> 5500\n",
      "Enter the credit interest:\n",
      "> 5.7\n",
      "It will take 35 years and 1 month to repay this credit!\n"
     ]
    }
   ],
   "source": [
    "import creditcalc"
   ]
  },
  {
   "cell_type": "code",
   "execution_count": null,
   "metadata": {},
   "outputs": [],
   "source": []
  }
 ],
 "metadata": {
  "kernelspec": {
   "display_name": "Python 3",
   "language": "python",
   "name": "python3"
  },
  "language_info": {
   "codemirror_mode": {
    "name": "ipython",
    "version": 3
   },
   "file_extension": ".py",
   "mimetype": "text/x-python",
   "name": "python",
   "nbconvert_exporter": "python",
   "pygments_lexer": "ipython3",
   "version": "3.8.5"
  }
 },
 "nbformat": 4,
 "nbformat_minor": 4
}
